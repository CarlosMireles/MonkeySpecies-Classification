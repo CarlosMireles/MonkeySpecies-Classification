{
 "cells": [
  {
   "cell_type": "markdown",
   "id": "40999309-3231-43a3-a00e-1cc4712d0a2d",
   "metadata": {},
   "source": [
    "Importe de todas las librerías necesarias"
   ]
  },
  {
   "cell_type": "code",
   "execution_count": null,
   "id": "b5544bc4-7cd9-4ced-86ad-6c6211827d01",
   "metadata": {},
   "outputs": [],
   "source": [
    "import random\n",
    "import numpy as NumPy\n",
    "import tensorflow as TensorFlow\n",
    "import matplotlib.pyplot as plt\n",
    "\n",
    "from keras.models import Sequential\n",
    "from keras.layers import Conv2D, MaxPooling2D, Flatten, Dense, Dropout\n",
    "from keras.preprocessing.image import ImageDataGenerator\n",
    "from keras.callbacks import EarlyStopping"
   ]
  },
  {
   "cell_type": "markdown",
   "id": "4121b002-e353-464f-a728-51be4f617293",
   "metadata": {},
   "source": [
    "Establecemos una semilla"
   ]
  },
  {
   "cell_type": "code",
   "execution_count": null,
   "id": "f55eafc3-7e27-45df-b593-07833659100e",
   "metadata": {},
   "outputs": [],
   "source": [
    "seed_value = 31\n",
    "random.seed(seed_value)                             # Semilla para Python\n",
    "NumPy.random.seed(seed_value)                       # Semilla para NumPy\n",
    "TensorFlow.random.set_seed(seed_value)              # Semilla para TensorFlow/Keras"
   ]
  },
  {
   "cell_type": "markdown",
   "id": "8a05efe9-6625-426b-9993-231268c48187",
   "metadata": {},
   "source": [
    "Función anexa que nos servirá para mostrar gráficas"
   ]
  },
  {
   "cell_type": "code",
   "execution_count": 47,
   "id": "6c9aca4e-9886-4c5d-93a5-cc196b705ef8",
   "metadata": {},
   "outputs": [],
   "source": [
    "def generatePlot(history):\n",
    "    # Extracción de datos\n",
    "    acc = history.history['accuracy']\n",
    "    val_acc = history.history['val_accuracy']\n",
    "    loss = history.history['loss']\n",
    "    val_loss = history.history['val_loss']\n",
    "    epochs = range(1, len(acc) + 1)\n",
    "\n",
    "    # Creación del gráfico de accuracy\n",
    "    plt.figure(figsize=(12, 6))\n",
    "    plt.subplot(1, 2, 1)\n",
    "    plt.plot(epochs, acc, 'b', label='Training')\n",
    "    plt.plot(epochs, val_acc, 'r', label='Validation')\n",
    "    plt.title('Training and Validation Accuracy')\n",
    "    plt.xlabel('Epochs')\n",
    "    plt.ylabel('Accuracy')\n",
    "    plt.legend()\n",
    "\n",
    "    # Creación del gráfico de loss\n",
    "    plt.subplot(1, 2, 2)\n",
    "    plt.plot(epochs, loss, 'b', label='Training')\n",
    "    plt.plot(epochs, val_loss, 'r', label='Validation')\n",
    "    plt.title('Training and Validation Loss')\n",
    "    plt.xlabel('Epochs')\n",
    "    plt.ylabel('Loss')\n",
    "    plt.legend()\n",
    "\n",
    "    plt.tight_layout()\n",
    "    plt.show()"
   ]
  },
  {
   "cell_type": "markdown",
   "id": "143337c3-1949-43af-bbb7-790fbfbc8379",
   "metadata": {},
   "source": [
    "### **Configuración de los parámetros iniciales**\n",
    "\n",
    "Cada lote será de 16 fotos\n",
    "\n",
    "Imagenes 150x150\n",
    "\n",
    "Y se utilizará un 20% para el conjunto de validación"
   ]
  },
  {
   "cell_type": "code",
   "execution_count": 25,
   "id": "9d3c08fb-0a2e-4736-94cf-2af0d3901b29",
   "metadata": {},
   "outputs": [],
   "source": [
    "dataset_path = r\".\\Monkeys\"\n",
    "batch_size = 16\n",
    "image_size = (150, 150)\n",
    "rescale_factor = 1. / 255\n",
    "validation_split_value = 0.2"
   ]
  },
  {
   "cell_type": "markdown",
   "id": "446877e9-c6d1-4515-ae2d-7804367c7a42",
   "metadata": {},
   "source": [
    "### **Configuración de los conjuntos de Entrenamiento y Validación**"
   ]
  },
  {
   "cell_type": "code",
   "execution_count": null,
   "id": "15a3a829-9ea7-413c-84b9-8a8df3765c5d",
   "metadata": {},
   "outputs": [],
   "source": [
    "data_generator = ImageDataGenerator(\n",
    "    rescale=rescale_factor,\n",
    "    validation_split=validation_split_value\n",
    ")\n",
    "\n",
    "train_generator = data_generator.flow_from_directory(\n",
    "    dataset_path,\n",
    "    target_size=image_size,\n",
    "    batch_size=batch_size,\n",
    "    class_mode='categorical',\n",
    "    subset='training'\n",
    ")\n",
    "\n",
    "validation_generator = data_generator.flow_from_directory(\n",
    "    dataset_path,\n",
    "    target_size=image_size,\n",
    "    batch_size=batch_size,\n",
    "    class_mode='categorical',\n",
    "    subset='validation'\n",
    ")"
   ]
  },
  {
   "cell_type": "markdown",
   "id": "30198ce3-c94a-4d54-a8c8-98974cd7f919",
   "metadata": {},
   "source": [
    "Visualización de las imagenes"
   ]
  },
  {
   "cell_type": "code",
   "execution_count": null,
   "id": "51ed3dae-7eb0-4edc-a451-d6d4e9426dd3",
   "metadata": {},
   "outputs": [],
   "source": [
    "x_batch, y_batch = next(train_generator)\n",
    "for i in range (0, 5):\n",
    "    image = x_batch[i]\n",
    "    plt.imshow(image)\n",
    "    plt.show()"
   ]
  },
  {
   "cell_type": "markdown",
   "id": "3dccc6bc-37bb-4020-9f4c-0df7aefbfe50",
   "metadata": {},
   "source": [
    "Configurar Early Stopping: A partir de 8 épocas sin mejora significativa de val_loss se detiene el entrenamiento."
   ]
  },
  {
   "cell_type": "code",
   "execution_count": null,
   "id": "83382258-974b-4222-90aa-a9bf7c715009",
   "metadata": {},
   "outputs": [],
   "source": [
    "early_stopping = EarlyStopping(monitor='val_loss', patience=8)"
   ]
  },
  {
   "cell_type": "markdown",
   "id": "735f7be0-7721-43eb-9003-2f33b637f927",
   "metadata": {},
   "source": [
    "### **Configuración de los conjuntos de Entrenamiento y Validación**"
   ]
  },
  {
   "cell_type": "code",
   "execution_count": null,
   "id": "2d815327-16d0-499a-89fc-d70e98632feb",
   "metadata": {},
   "outputs": [],
   "source": [
    "model = Sequential()\n",
    "model.add(Conv2D(32, (3, 3), activation='relu', input_shape=(image_size[0], image_size[1], 3)))\n",
    "model.add(MaxPooling2D((2, 2)))\n",
    "\n",
    "model.add(Conv2D(64, (3, 3), activation='relu'))\n",
    "model.add(MaxPooling2D((2, 2)))\n",
    "\n",
    "model.add(Conv2D(128, (3, 3), activation='relu'))\n",
    "model.add(MaxPooling2D((2, 2)))\n",
    "\n",
    "model.add(Conv2D(256, (3, 3), activation='relu'))\n",
    "model.add(MaxPooling2D((2, 2)))\n",
    "\n",
    "model.add(Conv2D(512, (3, 3), activation='relu'))\n",
    "model.add(MaxPooling2D((2, 2)))\n",
    "\n",
    "model.add(Flatten())\n",
    "\n",
    "model.add(Dense(512, activation='relu'))\n",
    "model.add(Dropout(0.5))\n",
    "\n",
    "model.add(Dense(256, activation='relu'))\n",
    "model.add(Dropout(0.5))\n",
    "\n",
    "model.add(Dense(5, activation='softmax'))\n",
    "model.summary()"
   ]
  },
  {
   "cell_type": "markdown",
   "id": "c68d85fe-e58b-4283-beec-c81b2c5209ce",
   "metadata": {},
   "source": [
    "Compilación del modelo y Entrenamiento"
   ]
  },
  {
   "cell_type": "code",
   "execution_count": null,
   "id": "6658b2b3-a493-4bc7-afbc-3cc578374983",
   "metadata": {},
   "outputs": [],
   "source": [
    "model.compile(\n",
    "    optimizer='adam',\n",
    "    loss='categorical_crossentropy',\n",
    "    metrics=['accuracy']\n",
    ")\n",
    "\n",
    "epochs = 30\n",
    "\n",
    "trainning = model.fit(\n",
    "    train_generator,\n",
    "    epochs=epochs,\n",
    "    validation_data=validation_generator,\n",
    "    callbacks=[ early_stopping ]\n",
    ")"
   ]
  },
  {
   "cell_type": "markdown",
   "id": "86072299-306a-40e2-a01d-23fb0a334e67",
   "metadata": {},
   "source": [
    "Visualización de los valores de val_accuracy y val_loss con respecto a acuraccy y loss"
   ]
  },
  {
   "cell_type": "code",
   "execution_count": null,
   "id": "5c8cc483-10ea-471e-b706-8f76af80ece2",
   "metadata": {},
   "outputs": [],
   "source": [
    "generatePlot(trainning)\n",
    "\n",
    "score = model.evaluate(validation_generator, steps=50, verbose=0)  #'steps' es el número de lotes a evaluar\n",
    "\n",
    "print('Test loss:', score[0])\n",
    "print('Test accuracy:', score[1])"
   ]
  }
 ],
 "metadata": {
  "kernelspec": {
   "display_name": "Python 3 (ipykernel)",
   "language": "python",
   "name": "python3"
  },
  "language_info": {
   "codemirror_mode": {
    "name": "ipython",
    "version": 3
   },
   "file_extension": ".py",
   "mimetype": "text/x-python",
   "name": "python",
   "nbconvert_exporter": "python",
   "pygments_lexer": "ipython3",
   "version": "3.12.1"
  }
 },
 "nbformat": 4,
 "nbformat_minor": 5
}
